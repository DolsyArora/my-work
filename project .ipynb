{
 "cells": [
  {
   "cell_type": "code",
   "execution_count": 1,
   "id": "c24c4068",
   "metadata": {
    "scrolled": true
   },
   "outputs": [],
   "source": [
    "# importing libraries\n",
    "import pandas as pd\n",
    "\n",
    "import matplotlib.pyplot as plt\n",
    "import seaborn as sns\n",
    "\n",
    "from sklearn import tree\n",
    "from sklearn.model_selection import train_test_split\n",
    "import matplotlib.image as pltimg\n",
    "from sklearn import preprocessing\n",
    "from sklearn import utils"
   ]
  },
  {
   "cell_type": "code",
   "execution_count": 2,
   "id": "b022ec6c",
   "metadata": {},
   "outputs": [
    {
     "name": "stdout",
     "output_type": "stream",
     "text": [
      "C:\\Users\\Nandan Arora\\OneDrive\\Desktop\\Introduction to artificial intelligence\n"
     ]
    }
   ],
   "source": [
    "cd /Users/Nandan Arora/OneDrive/Desktop/Introduction to artificial intelligence"
   ]
  },
  {
   "cell_type": "code",
   "execution_count": 3,
   "id": "c1d2cee6",
   "metadata": {},
   "outputs": [],
   "source": [
    "#importing data\n",
    "data = pd.read_csv(\"admission_data.csv\", header = 0)"
   ]
  },
  {
   "cell_type": "code",
   "execution_count": 4,
   "id": "bde345fc",
   "metadata": {},
   "outputs": [
    {
     "name": "stdout",
     "output_type": "stream",
     "text": [
      "     GRE Score  TOEFL Score  University Rating  SOP  LOR   CGPA  Research  \\\n",
      "0          337          118                  4  4.5   4.5  9.65         1   \n",
      "1          324          107                  4  4.0   4.5  8.87         1   \n",
      "2          316          104                  3  3.0   3.5  8.00         1   \n",
      "3          322          110                  3  3.5   2.5  8.67         1   \n",
      "4          314          103                  2  2.0   3.0  8.21         0   \n",
      "..         ...          ...                ...  ...   ...   ...       ...   \n",
      "495        332          108                  5  4.5   4.0  9.02         1   \n",
      "496        337          117                  5  5.0   5.0  9.87         1   \n",
      "497        330          120                  5  4.5   5.0  9.56         1   \n",
      "498        312          103                  4  4.0   5.0  8.43         0   \n",
      "499        327          113                  4  4.5   4.5  9.04         0   \n",
      "\n",
      "     Chance of Admit   \n",
      "0                   1  \n",
      "1                   0  \n",
      "2                   0  \n",
      "3                   1  \n",
      "4                   0  \n",
      "..                ...  \n",
      "495                 1  \n",
      "496                 1  \n",
      "497                 1  \n",
      "498                 0  \n",
      "499                 1  \n",
      "\n",
      "[500 rows x 8 columns]\n"
     ]
    }
   ],
   "source": [
    "#reading data(going through the data)\n",
    "print(data)"
   ]
  },
  {
   "cell_type": "code",
   "execution_count": 5,
   "id": "51bef160",
   "metadata": {},
   "outputs": [
    {
     "data": {
      "text/html": [
       "<div>\n",
       "<style scoped>\n",
       "    .dataframe tbody tr th:only-of-type {\n",
       "        vertical-align: middle;\n",
       "    }\n",
       "\n",
       "    .dataframe tbody tr th {\n",
       "        vertical-align: top;\n",
       "    }\n",
       "\n",
       "    .dataframe thead th {\n",
       "        text-align: right;\n",
       "    }\n",
       "</style>\n",
       "<table border=\"1\" class=\"dataframe\">\n",
       "  <thead>\n",
       "    <tr style=\"text-align: right;\">\n",
       "      <th></th>\n",
       "      <th>GRE Score</th>\n",
       "      <th>TOEFL Score</th>\n",
       "      <th>University Rating</th>\n",
       "      <th>SOP</th>\n",
       "      <th>LOR</th>\n",
       "      <th>CGPA</th>\n",
       "      <th>Research</th>\n",
       "      <th>Chance of Admit</th>\n",
       "    </tr>\n",
       "  </thead>\n",
       "  <tbody>\n",
       "    <tr>\n",
       "      <th>count</th>\n",
       "      <td>500.000000</td>\n",
       "      <td>500.000000</td>\n",
       "      <td>500.000000</td>\n",
       "      <td>500.000000</td>\n",
       "      <td>500.00000</td>\n",
       "      <td>500.000000</td>\n",
       "      <td>500.000000</td>\n",
       "      <td>500.000000</td>\n",
       "    </tr>\n",
       "    <tr>\n",
       "      <th>mean</th>\n",
       "      <td>316.472000</td>\n",
       "      <td>107.192000</td>\n",
       "      <td>3.114000</td>\n",
       "      <td>3.374000</td>\n",
       "      <td>3.48400</td>\n",
       "      <td>8.576440</td>\n",
       "      <td>0.560000</td>\n",
       "      <td>0.310000</td>\n",
       "    </tr>\n",
       "    <tr>\n",
       "      <th>std</th>\n",
       "      <td>11.295148</td>\n",
       "      <td>6.081868</td>\n",
       "      <td>1.143512</td>\n",
       "      <td>0.991004</td>\n",
       "      <td>0.92545</td>\n",
       "      <td>0.604813</td>\n",
       "      <td>0.496884</td>\n",
       "      <td>0.462956</td>\n",
       "    </tr>\n",
       "    <tr>\n",
       "      <th>min</th>\n",
       "      <td>290.000000</td>\n",
       "      <td>92.000000</td>\n",
       "      <td>1.000000</td>\n",
       "      <td>1.000000</td>\n",
       "      <td>1.00000</td>\n",
       "      <td>6.800000</td>\n",
       "      <td>0.000000</td>\n",
       "      <td>0.000000</td>\n",
       "    </tr>\n",
       "    <tr>\n",
       "      <th>25%</th>\n",
       "      <td>308.000000</td>\n",
       "      <td>103.000000</td>\n",
       "      <td>2.000000</td>\n",
       "      <td>2.500000</td>\n",
       "      <td>3.00000</td>\n",
       "      <td>8.127500</td>\n",
       "      <td>0.000000</td>\n",
       "      <td>0.000000</td>\n",
       "    </tr>\n",
       "    <tr>\n",
       "      <th>50%</th>\n",
       "      <td>317.000000</td>\n",
       "      <td>107.000000</td>\n",
       "      <td>3.000000</td>\n",
       "      <td>3.500000</td>\n",
       "      <td>3.50000</td>\n",
       "      <td>8.560000</td>\n",
       "      <td>1.000000</td>\n",
       "      <td>0.000000</td>\n",
       "    </tr>\n",
       "    <tr>\n",
       "      <th>75%</th>\n",
       "      <td>325.000000</td>\n",
       "      <td>112.000000</td>\n",
       "      <td>4.000000</td>\n",
       "      <td>4.000000</td>\n",
       "      <td>4.00000</td>\n",
       "      <td>9.040000</td>\n",
       "      <td>1.000000</td>\n",
       "      <td>1.000000</td>\n",
       "    </tr>\n",
       "    <tr>\n",
       "      <th>max</th>\n",
       "      <td>340.000000</td>\n",
       "      <td>120.000000</td>\n",
       "      <td>5.000000</td>\n",
       "      <td>5.000000</td>\n",
       "      <td>5.00000</td>\n",
       "      <td>9.920000</td>\n",
       "      <td>1.000000</td>\n",
       "      <td>1.000000</td>\n",
       "    </tr>\n",
       "  </tbody>\n",
       "</table>\n",
       "</div>"
      ],
      "text/plain": [
       "        GRE Score  TOEFL Score  University Rating         SOP       LOR   \\\n",
       "count  500.000000   500.000000         500.000000  500.000000  500.00000   \n",
       "mean   316.472000   107.192000           3.114000    3.374000    3.48400   \n",
       "std     11.295148     6.081868           1.143512    0.991004    0.92545   \n",
       "min    290.000000    92.000000           1.000000    1.000000    1.00000   \n",
       "25%    308.000000   103.000000           2.000000    2.500000    3.00000   \n",
       "50%    317.000000   107.000000           3.000000    3.500000    3.50000   \n",
       "75%    325.000000   112.000000           4.000000    4.000000    4.00000   \n",
       "max    340.000000   120.000000           5.000000    5.000000    5.00000   \n",
       "\n",
       "             CGPA    Research  Chance of Admit   \n",
       "count  500.000000  500.000000        500.000000  \n",
       "mean     8.576440    0.560000          0.310000  \n",
       "std      0.604813    0.496884          0.462956  \n",
       "min      6.800000    0.000000          0.000000  \n",
       "25%      8.127500    0.000000          0.000000  \n",
       "50%      8.560000    1.000000          0.000000  \n",
       "75%      9.040000    1.000000          1.000000  \n",
       "max      9.920000    1.000000          1.000000  "
      ]
     },
     "execution_count": 5,
     "metadata": {},
     "output_type": "execute_result"
    }
   ],
   "source": [
    "#going through the data\n",
    "data.describe()"
   ]
  },
  {
   "cell_type": "code",
   "execution_count": 6,
   "id": "06757d94",
   "metadata": {},
   "outputs": [
    {
     "name": "stdout",
     "output_type": "stream",
     "text": [
      "GRE Score            0\n",
      "TOEFL Score          0\n",
      "University Rating    0\n",
      "SOP                  0\n",
      "LOR                  0\n",
      "CGPA                 0\n",
      "Research             0\n",
      "Chance of Admit      0\n",
      "dtype: int64\n"
     ]
    }
   ],
   "source": [
    "#checking for missing values \n",
    "total = data.isnull().sum().sort_values(ascending=False)\n",
    "print(total)"
   ]
  },
  {
   "cell_type": "code",
   "execution_count": 7,
   "id": "0fa3a154",
   "metadata": {},
   "outputs": [],
   "source": [
    "# deleting the spaces in between the column names \n",
    "data.columns = data.columns.str.replace(' ', '')"
   ]
  },
  {
   "cell_type": "code",
   "execution_count": 8,
   "id": "1bcf53f5",
   "metadata": {},
   "outputs": [
    {
     "name": "stdout",
     "output_type": "stream",
     "text": [
      "     GREScore  TOEFLScore  UniversityRating  SOP  LOR  CGPA  Research  \\\n",
      "0         337         118                 4  4.5  4.5  9.65         1   \n",
      "1         324         107                 4  4.0  4.5  8.87         1   \n",
      "2         316         104                 3  3.0  3.5  8.00         1   \n",
      "3         322         110                 3  3.5  2.5  8.67         1   \n",
      "4         314         103                 2  2.0  3.0  8.21         0   \n",
      "..        ...         ...               ...  ...  ...   ...       ...   \n",
      "495       332         108                 5  4.5  4.0  9.02         1   \n",
      "496       337         117                 5  5.0  5.0  9.87         1   \n",
      "497       330         120                 5  4.5  5.0  9.56         1   \n",
      "498       312         103                 4  4.0  5.0  8.43         0   \n",
      "499       327         113                 4  4.5  4.5  9.04         0   \n",
      "\n",
      "     ChanceofAdmit  \n",
      "0                1  \n",
      "1                0  \n",
      "2                0  \n",
      "3                1  \n",
      "4                0  \n",
      "..             ...  \n",
      "495              1  \n",
      "496              1  \n",
      "497              1  \n",
      "498              0  \n",
      "499              1  \n",
      "\n",
      "[500 rows x 8 columns]\n"
     ]
    }
   ],
   "source": [
    "print(data)"
   ]
  },
  {
   "cell_type": "code",
   "execution_count": 9,
   "id": "c03a1ec4",
   "metadata": {},
   "outputs": [
    {
     "data": {
      "image/png": "[encoded data removed]",
      "text/plain": [
       "<Figure size 864x576 with 2 Axes>"
      ]
     },
     "metadata": {
      "needs_background": "light"
     },
     "output_type": "display_data"
    }
   ],
   "source": [
    "#correlation between the features \n",
    "plt.figure(figsize=(12,8))\n",
    "ax = sns.heatmap(data.corr(), cmap='Greens', annot= True)\n",
    "plt.show()"
   ]
  },
  {
   "cell_type": "code",
   "execution_count": 10,
   "id": "4ecdd1c0",
   "metadata": {},
   "outputs": [
    {
     "data": {
      "text/html": [
       "<div>\n",
       "<style scoped>\n",
       "    .dataframe tbody tr th:only-of-type {\n",
       "        vertical-align: middle;\n",
       "    }\n",
       "\n",
       "    .dataframe tbody tr th {\n",
       "        vertical-align: top;\n",
       "    }\n",
       "\n",
       "    .dataframe thead th {\n",
       "        text-align: right;\n",
       "    }\n",
       "</style>\n",
       "<table border=\"1\" class=\"dataframe\">\n",
       "  <thead>\n",
       "    <tr style=\"text-align: right;\">\n",
       "      <th></th>\n",
       "      <th>ChanceofAdmit</th>\n",
       "    </tr>\n",
       "  </thead>\n",
       "  <tbody>\n",
       "    <tr>\n",
       "      <th>ChanceofAdmit</th>\n",
       "      <td>1.000000</td>\n",
       "    </tr>\n",
       "    <tr>\n",
       "      <th>CGPA</th>\n",
       "      <td>0.742278</td>\n",
       "    </tr>\n",
       "    <tr>\n",
       "      <th>TOEFLScore</th>\n",
       "      <td>0.699101</td>\n",
       "    </tr>\n",
       "    <tr>\n",
       "      <th>GREScore</th>\n",
       "      <td>0.683633</td>\n",
       "    </tr>\n",
       "    <tr>\n",
       "      <th>UniversityRating</th>\n",
       "      <td>0.618279</td>\n",
       "    </tr>\n",
       "    <tr>\n",
       "      <th>SOP</th>\n",
       "      <td>0.581077</td>\n",
       "    </tr>\n",
       "    <tr>\n",
       "      <th>LOR</th>\n",
       "      <td>0.500391</td>\n",
       "    </tr>\n",
       "    <tr>\n",
       "      <th>Research</th>\n",
       "      <td>0.498311</td>\n",
       "    </tr>\n",
       "  </tbody>\n",
       "</table>\n",
       "</div>"
      ],
      "text/plain": [
       "                  ChanceofAdmit\n",
       "ChanceofAdmit          1.000000\n",
       "CGPA                   0.742278\n",
       "TOEFLScore             0.699101\n",
       "GREScore               0.683633\n",
       "UniversityRating       0.618279\n",
       "SOP                    0.581077\n",
       "LOR                    0.500391\n",
       "Research               0.498311"
      ]
     },
     "execution_count": 10,
     "metadata": {},
     "output_type": "execute_result"
    }
   ],
   "source": [
    "#correlation of other features to chance of admit\n",
    "data.corr()[['ChanceofAdmit']].sort_values(by = 'ChanceofAdmit', ascending= False)"
   ]
  },
  {
   "cell_type": "code",
   "execution_count": 11,
   "id": "c5cb64f9",
   "metadata": {},
   "outputs": [
    {
     "data": {
      "text/plain": [
       "['GREScore',\n",
       " 'TOEFLScore',\n",
       " 'UniversityRating',\n",
       " 'SOP',\n",
       " 'LOR',\n",
       " 'CGPA',\n",
       " 'Research',\n",
       " 'ChanceofAdmit']"
      ]
     },
     "execution_count": 11,
     "metadata": {},
     "output_type": "execute_result"
    }
   ],
   "source": [
    "list(data.columns)"
   ]
  },
  {
   "cell_type": "code",
   "execution_count": 12,
   "id": "31a01c73",
   "metadata": {},
   "outputs": [
    {
     "data": {
      "text/plain": [
       "0    345\n",
       "1    155\n",
       "Name: ChanceofAdmit, dtype: int64"
      ]
     },
     "execution_count": 12,
     "metadata": {},
     "output_type": "execute_result"
    }
   ],
   "source": [
    "#propotion of the chance of admit column \n",
    "data['ChanceofAdmit'].value_counts()"
   ]
  },
  {
   "cell_type": "code",
   "execution_count": 13,
   "id": "cf649e91",
   "metadata": {},
   "outputs": [],
   "source": [
    "#splitting the target variable form the data\n",
    "features = [\n",
    " 'GREScore',\n",
    " 'TOEFLScore',\n",
    " 'UniversityRating',\n",
    " 'SOP',\n",
    " 'LOR',\n",
    " 'CGPA',\n",
    " 'Research']\n",
    "X = data[features]\n",
    "Y = data['ChanceofAdmit']"
   ]
  },
  {
   "cell_type": "code",
   "execution_count": 14,
   "id": "da3de76e",
   "metadata": {},
   "outputs": [
    {
     "name": "stdout",
     "output_type": "stream",
     "text": [
      "     GREScore  TOEFLScore  UniversityRating  SOP  LOR  CGPA  Research\n",
      "0         337         118                 4  4.5  4.5  9.65         1\n",
      "1         324         107                 4  4.0  4.5  8.87         1\n",
      "2         316         104                 3  3.0  3.5  8.00         1\n",
      "3         322         110                 3  3.5  2.5  8.67         1\n",
      "4         314         103                 2  2.0  3.0  8.21         0\n",
      "..        ...         ...               ...  ...  ...   ...       ...\n",
      "495       332         108                 5  4.5  4.0  9.02         1\n",
      "496       337         117                 5  5.0  5.0  9.87         1\n",
      "497       330         120                 5  4.5  5.0  9.56         1\n",
      "498       312         103                 4  4.0  5.0  8.43         0\n",
      "499       327         113                 4  4.5  4.5  9.04         0\n",
      "\n",
      "[500 rows x 7 columns]\n",
      "0      1\n",
      "1      0\n",
      "2      0\n",
      "3      1\n",
      "4      0\n",
      "      ..\n",
      "495    1\n",
      "496    1\n",
      "497    1\n",
      "498    0\n",
      "499    1\n",
      "Name: ChanceofAdmit, Length: 500, dtype: int64\n"
     ]
    }
   ],
   "source": [
    "#printing the feature(X) and the target(Y)\n",
    "print(X)\n",
    "print(Y)"
   ]
  },
  {
   "cell_type": "code",
   "execution_count": 15,
   "id": "c14554d0",
   "metadata": {},
   "outputs": [],
   "source": [
    "#splitting the data into training and testing sets\n",
    "X_train, X_test, Y_train, Y_test = train_test_split(X, Y, test_size = 0.2, random_state = 0)"
   ]
  },
  {
   "cell_type": "code",
   "execution_count": 16,
   "id": "57c5488e",
   "metadata": {},
   "outputs": [],
   "source": [
    "#importing library \n",
    "from sklearn.tree import DecisionTreeClassifier"
   ]
  },
  {
   "cell_type": "code",
   "execution_count": 17,
   "id": "d87f9d74",
   "metadata": {},
   "outputs": [],
   "source": [
    "#fitting the decision tree model to the training sets\n",
    "dtree = DecisionTreeClassifier(max_depth=2)\n",
    "dtree = dtree.fit(X_train, Y_train)"
   ]
  },
  {
   "cell_type": "code",
   "execution_count": 21,
   "id": "118096a1",
   "metadata": {},
   "outputs": [
    {
     "name": "stdout",
     "output_type": "stream",
     "text": [
      "Collecting package metadata (current_repodata.json): ...working... done\n",
      "Solving environment: ...working... done\n",
      "\n",
      "# All requested packages already installed.\n",
      "\n",
      "Collecting package metadata (current_repodata.json): ...working... done\n",
      "Solving environment: ...working... done\n",
      "\n",
      "# All requested packages already installed.\n",
      "\n"
     ]
    }
   ],
   "source": [
    "#downloading library\n",
    "!conda install -c conda-forge pydotplus -y\n",
    "!conda install -c conda-forge python-graphviz -y"
   ]
  },
  {
   "cell_type": "code",
   "execution_count": 29,
   "id": "a0af8a49",
   "metadata": {},
   "outputs": [],
   "source": [
    "#imporitng libraries \n",
    "from  io import StringIO\n",
    "import pydotplus\n",
    "import matplotlib.image as mpimg\n",
    "from sklearn import tree\n"
   ]
  },
  {
   "cell_type": "code",
   "execution_count": 30,
   "id": "cdf581cf",
   "metadata": {},
   "outputs": [
    {
     "data": {
      "image/png": "[encoded data removed]",
      "text/plain": [
       "<Figure size 432x288 with 1 Axes>"
      ]
     },
     "metadata": {
      "needs_background": "light"
     },
     "output_type": "display_data"
    }
   ],
   "source": [
    "#plotting decision tree\n",
    "data = tree.export_graphviz(dtree, out_file=None, feature_names = features)\n",
    "graph = pydotplus.graph_from_dot_data(data)\n",
    "graph.write_png('mydecisiontree.png')\n",
    "\n",
    "img = pltimg.imread('mydecisiontree.png')\n",
    "imgplot= plt.imshow(img)\n",
    "plt.show()"
   ]
  },
  {
   "cell_type": "code",
   "execution_count": 33,
   "id": "309ee5fe",
   "metadata": {},
   "outputs": [
    {
     "name": "stdout",
     "output_type": "stream",
     "text": [
      "digraph Tree {\n",
      "node [shape=box] ;\n",
      "0 [label=\"CGPA <= 8.845\\ngini = 0.437\\nsamples = 400\\nvalue = [271, 129]\"] ;\n",
      "1 [label=\"CGPA <= 8.63\\ngini = 0.087\\nsamples = 263\\nvalue = [251, 12]\"] ;\n",
      "0 -> 1 [labeldistance=2.5, labelangle=45, headlabel=\"True\"] ;\n",
      "2 [label=\"gini = 0.01\\nsamples = 198\\nvalue = [197, 1]\"] ;\n",
      "1 -> 2 ;\n",
      "3 [label=\"gini = 0.281\\nsamples = 65\\nvalue = [54, 11]\"] ;\n",
      "1 -> 3 ;\n",
      "4 [label=\"GREScore <= 318.5\\ngini = 0.249\\nsamples = 137\\nvalue = [20, 117]\"] ;\n",
      "0 -> 4 [labeldistance=2.5, labelangle=-45, headlabel=\"False\"] ;\n",
      "5 [label=\"gini = 0.444\\nsamples = 12\\nvalue = [8, 4]\"] ;\n",
      "4 -> 5 ;\n",
      "6 [label=\"gini = 0.174\\nsamples = 125\\nvalue = [12, 113]\"] ;\n",
      "4 -> 6 ;\n",
      "}\n"
     ]
    }
   ],
   "source": [
    "#printing decision tree algorithm in text\n",
    "print(data)"
   ]
  },
  {
   "cell_type": "code",
   "execution_count": 34,
   "id": "85a6b134",
   "metadata": {},
   "outputs": [
    {
     "name": "stdout",
     "output_type": "stream",
     "text": [
      "[0 1 1 1 0 0 0 0 0 0 0 0 0 0 1 0 1 0 1 0 0 0 0 1 1 0 0 0 0 0 0 0 0 1 0 0 1\n",
      " 1 0 0 0 1 1 0 0 1 1 1 0 0 0 0 0 1 0 1 0 1 0 0 0 1 0 1 0 0 0 1 0 0 1 1 0 0\n",
      " 1 1 0 0 0 0 0 1 0 0 0 0 1 0 0 0 0 1 0 0 0 1 0 0 0 0]\n"
     ]
    }
   ],
   "source": [
    "#printing the predicted Y\n",
    "Y_pred = dtree.predict(X_test)\n",
    "print(Y_pred)"
   ]
  },
  {
   "cell_type": "code",
   "execution_count": 40,
   "id": "10821882",
   "metadata": {},
   "outputs": [],
   "source": [
    "# importing libraries \n",
    "# to test out model comclusion\n",
    "from sklearn import metrics\n",
    "from sklearn.metrics import confusion_matrix\n",
    "from sklearn.metrics import classification_report\n"
   ]
  },
  {
   "cell_type": "code",
   "execution_count": 41,
   "id": "6601496b",
   "metadata": {},
   "outputs": [
    {
     "name": "stdout",
     "output_type": "stream",
     "text": [
      "[[69  5]\n",
      " [ 1 25]]\n",
      "              precision    recall  f1-score   support\n",
      "\n",
      "           0       0.99      0.93      0.96        74\n",
      "           1       0.83      0.96      0.89        26\n",
      "\n",
      "    accuracy                           0.94       100\n",
      "   macro avg       0.91      0.95      0.93       100\n",
      "weighted avg       0.95      0.94      0.94       100\n",
      "\n"
     ]
    }
   ],
   "source": [
    "#printing the confusion matrix  and the classification report\n",
    "print(confusion_matrix(Y_test, Y_pred))\n",
    "print(classification_report(Y_test, Y_pred))"
   ]
  },
  {
   "cell_type": "code",
   "execution_count": 2,
   "id": "23a146b0",
   "metadata": {},
   "outputs": [
    {
     "ename": "NameError",
     "evalue": "name 'metrics' is not defined",
     "output_type": "error",
     "traceback": [
      "\u001b[1;31m---------------------------------------------------------------------------\u001b[0m",
      "\u001b[1;31mNameError\u001b[0m                                 Traceback (most recent call last)",
      "Input \u001b[1;32mIn [2]\u001b[0m, in \u001b[0;36m<cell line: 2>\u001b[1;34m()\u001b[0m\n\u001b[0;32m      1\u001b[0m \u001b[38;5;66;03m#printing the accuracy of the model\u001b[39;00m\n\u001b[1;32m----> 2\u001b[0m \u001b[38;5;28mprint\u001b[39m(\u001b[38;5;124m\"\u001b[39m\u001b[38;5;124mDecisionTrees\u001b[39m\u001b[38;5;124m'\u001b[39m\u001b[38;5;124ms Accuracy: \u001b[39m\u001b[38;5;124m\"\u001b[39m, \u001b[43mmetrics\u001b[49m\u001b[38;5;241m.\u001b[39maccuracy_score(Y_test, Y_predict))\n",
      "\u001b[1;31mNameError\u001b[0m: name 'metrics' is not defined"
     ]
    }
   ],
   "source": [
    "#printing the accuracy of the model\n",
    "print(\"DecisionTrees's Accuracy: \", metrics.accuracy_score(Y_test, Y_predict))"
   ]
  },
  {
   "cell_type": "code",
   "execution_count": 62,
   "id": "93ae7787",
   "metadata": {},
   "outputs": [],
   "source": [
    "#importing libraries \n",
    "from sklearn.preprocessing import StandardScaler\n",
    "from sklearn import decomposition\n",
    "from sklearn.pipeline import Pipeline"
   ]
  },
  {
   "cell_type": "code",
   "execution_count": 63,
   "id": "28e63988",
   "metadata": {},
   "outputs": [],
   "source": [
    "#Standardscaler to remove the outliers\n",
    "std_slc = StandardScaler()\n",
    "pca = decomposition.PCA()\n",
    "dtree2 = tree.DecisionTreeClassifier()"
   ]
  },
  {
   "cell_type": "code",
   "execution_count": 64,
   "id": "e2ca6b7d",
   "metadata": {},
   "outputs": [],
   "source": [
    "# creating pineline to pass multiple parameters ro gridsearch\n",
    "pipe = Pipeline(steps=[('std_slc', std_slc),\n",
    "                      ('pca', pca),\n",
    "                      ('dec_tree', dtree2)])"
   ]
  },
  {
   "cell_type": "code",
   "execution_count": 65,
   "id": "bdf87a1c",
   "metadata": {},
   "outputs": [],
   "source": [
    "#PCA  reduces the dimensions of features\n",
    "n_components = list(range(1,X.shape[1]+1,1))"
   ]
  },
  {
   "cell_type": "code",
   "execution_count": 76,
   "id": "5fc5e7bb",
   "metadata": {},
   "outputs": [],
   "source": [
    "criterion = ['gini', 'entropy']\n",
    "max_depth = [2,4,6,8,10,12]"
   ]
  },
  {
   "cell_type": "code",
   "execution_count": 77,
   "id": "56f50613",
   "metadata": {},
   "outputs": [],
   "source": [
    "parameters = dict(pca__n_components=  n_components,\n",
    "                 dec_tree__criterion = criterion,\n",
    "                 dec_tree__max_depth = max_depth)"
   ]
  },
  {
   "cell_type": "code",
   "execution_count": 78,
   "id": "9eb3f652",
   "metadata": {},
   "outputs": [],
   "source": [
    "from sklearn.model_selection import GridSearchCV"
   ]
  },
  {
   "cell_type": "code",
   "execution_count": 79,
   "id": "fcf8a2b2",
   "metadata": {},
   "outputs": [
    {
     "data": {
      "text/plain": [
       "GridSearchCV(estimator=Pipeline(steps=[('std_slc', StandardScaler()),\n",
       "                                       ('pca', PCA()),\n",
       "                                       ('dec_tree', DecisionTreeClassifier())]),\n",
       "             param_grid={'dec_tree__criterion': ['gini', 'entropy'],\n",
       "                         'dec_tree__max_depth': [2, 4, 6, 8, 10, 12],\n",
       "                         'pca__n_components': [1, 2, 3, 4, 5, 6, 7]})"
      ]
     },
     "execution_count": 79,
     "metadata": {},
     "output_type": "execute_result"
    }
   ],
   "source": [
    "clf_GS = GridSearchCV(pipe, parameters)\n",
    "clf_GS.fit(X,Y)"
   ]
  },
  {
   "cell_type": "code",
   "execution_count": 80,
   "id": "f572c5b5",
   "metadata": {},
   "outputs": [
    {
     "name": "stdout",
     "output_type": "stream",
     "text": [
      "Best Criterion:  gini\n",
      "Best max_depth:  2\n",
      "Best number of components:  1\n",
      "\n",
      "DecisionTreeClassifier(max_depth=2)\n"
     ]
    }
   ],
   "source": [
    "#  printing the best criterion to use\n",
    "print('Best Criterion: ',clf_GS.best_estimator_.get_params()['dec_tree__criterion'])\n",
    "print('Best max_depth: ',clf_GS.best_estimator_.get_params()['dec_tree__max_depth'])\n",
    "print('Best number of components: ',clf_GS.best_estimator_.get_params()['pca__n_components'])\n",
    "print();print(clf_GS.best_estimator_.get_params()['dec_tree'])"
   ]
  },
  {
   "cell_type": "code",
   "execution_count": null,
   "id": "69c064cb",
   "metadata": {},
   "outputs": [],
   "source": []
  }
 ],
 "metadata": {
  "kernelspec": {
   "display_name": "Python 3 (ipykernel)",
   "language": "python",
   "name": "python3"
  },
  "language_info": {
   "codemirror_mode": {
    "name": "ipython",
    "version": 3
   },
   "file_extension": ".py",
   "mimetype": "text/x-python",
   "name": "python",
   "nbconvert_exporter": "python",
   "pygments_lexer": "ipython3",
   "version": "3.9.12"
  }
 },
 "nbformat": 4,
 "nbformat_minor": 5
}
